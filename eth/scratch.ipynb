{
 "cells": [
  {
   "cell_type": "code",
   "execution_count": 1,
   "metadata": {
    "collapsed": false
   },
   "outputs": [],
   "source": [
    "import warnings\n",
    "warnings.simplefilter('ignore')\n",
    "\n",
    "import numpy as np\n",
    "import pandas as pd\n",
    "import sys,dateutil.parser\n",
    "\n",
    "\n",
    "import macd1\n",
    "import pandas.io.data as web\n",
    "import matplotlib.pyplot as plt\n",
    "import multiprocessing as mp\n",
    "%matplotlib inline\n",
    "import matplotlib.pyplot as plt\n",
    "from pylab import rcParams\n",
    "\n",
    "PAIR='XETHZUSD_1440'\n",
    "#PAIR='XXBTZUSD_1440'\n",
    "FROM = '2015-01-01 00:00:00.000000'\n",
    "\n",
    "import strat1\n",
    "import krakenutl\n",
    "import pandas as pd\n",
    "\n",
    "\n",
    "\n"
   ]
  },
  {
   "cell_type": "code",
   "execution_count": 4,
   "metadata": {
    "collapsed": false
   },
   "outputs": [
    {
     "name": "stdout",
     "output_type": "stream",
     "text": [
      "time\n",
      "2016-03-04 12:15:00    422.299\n",
      "2016-03-04 12:20:00    420.341\n",
      "2016-03-04 12:25:00    420.341\n",
      "2016-03-04 12:30:00    420.130\n",
      "2016-03-04 12:40:00    420.130\n",
      "2016-03-04 12:45:00    421.513\n",
      "2016-03-04 12:50:00    420.080\n",
      "2016-03-04 12:55:00    420.080\n",
      "2016-03-04 13:00:00    422.369\n",
      "2016-03-04 13:05:00    422.368\n",
      "2016-03-04 13:10:00    420.240\n",
      "2016-03-04 13:25:00    420.240\n",
      "2016-03-04 13:30:00    419.961\n",
      "2016-03-04 13:35:00    420.490\n",
      "2016-03-04 13:40:00    420.490\n",
      "2016-03-04 13:45:00    419.151\n",
      "2016-03-04 13:50:00    419.727\n",
      "2016-03-04 13:55:00    419.727\n",
      "2016-03-04 14:00:00    420.404\n",
      "2016-03-04 14:05:00    419.280\n",
      "2016-03-04 14:10:00    418.640\n",
      "2016-03-04 14:15:00    419.080\n",
      "2016-03-04 14:20:00    420.180\n",
      "2016-03-04 14:25:00    420.180\n",
      "2016-03-04 14:30:00    421.647\n",
      "2016-03-04 14:35:00    420.587\n",
      "2016-03-04 14:40:00    419.880\n",
      "2016-03-04 14:45:00    421.639\n",
      "2016-03-04 14:50:00    420.367\n",
      "2016-03-04 14:55:00    419.950\n",
      "                        ...   \n",
      "2016-03-06 21:20:00    406.959\n",
      "2016-03-06 21:25:00    406.590\n",
      "2016-03-06 21:30:00    406.590\n",
      "2016-03-06 21:35:00    406.719\n",
      "2016-03-06 21:40:00    404.102\n",
      "2016-03-06 21:45:00    404.102\n",
      "2016-03-06 21:50:00    404.102\n",
      "2016-03-06 22:05:00    404.102\n",
      "2016-03-06 22:10:00    404.107\n",
      "2016-03-06 22:15:00    404.108\n",
      "2016-03-06 22:20:00    404.108\n",
      "2016-03-06 22:25:00    404.108\n",
      "2016-03-06 22:30:00    404.108\n",
      "2016-03-06 22:35:00    404.108\n",
      "2016-03-06 22:40:00    406.976\n",
      "2016-03-06 22:50:00    406.976\n",
      "2016-03-06 22:55:00    405.624\n",
      "2016-03-06 23:00:00    404.101\n",
      "2016-03-06 23:05:00    401.047\n",
      "2016-03-06 23:10:00    403.859\n",
      "2016-03-06 23:15:00    403.859\n",
      "2016-03-06 23:20:00    403.859\n",
      "2016-03-06 23:25:00    403.859\n",
      "2016-03-06 23:30:00    403.859\n",
      "2016-03-06 23:35:00    403.859\n",
      "2016-03-06 23:40:00    403.470\n",
      "2016-03-06 23:45:00    403.470\n",
      "2016-03-06 23:50:00    400.817\n",
      "2016-03-06 23:55:00    400.649\n",
      "2016-03-07 00:00:00    400.649\n",
      "Name: close, dtype: object\n"
     ]
    }
   ],
   "source": [
    "filename='source/kraken.h5'\n",
    "h5 = pd.HDFStore(filename, 'r')\n",
    "#print h5\n",
    "#rcParams['figure.figsize'] = 20, 6\n",
    "#h5['XXBTZUSD_5']['close'].astype(float).plot()\n",
    "print h5['XXBTZUSD_5']['close']"
   ]
  },
  {
   "cell_type": "code",
   "execution_count": null,
   "metadata": {
    "collapsed": true
   },
   "outputs": [],
   "source": []
  },
  {
   "cell_type": "code",
   "execution_count": null,
   "metadata": {
    "collapsed": true
   },
   "outputs": [],
   "source": []
  },
  {
   "cell_type": "code",
   "execution_count": null,
   "metadata": {
    "collapsed": true
   },
   "outputs": [],
   "source": []
  }
 ],
 "metadata": {
  "kernelspec": {
   "display_name": "Python 2",
   "language": "python",
   "name": "python2"
  },
  "language_info": {
   "codemirror_mode": {
    "name": "ipython",
    "version": 2
   },
   "file_extension": ".py",
   "mimetype": "text/x-python",
   "name": "python",
   "nbconvert_exporter": "python",
   "pygments_lexer": "ipython2",
   "version": "2.7.11"
  }
 },
 "nbformat": 4,
 "nbformat_minor": 0
}
