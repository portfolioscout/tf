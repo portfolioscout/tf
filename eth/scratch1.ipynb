{
 "cells": [
  {
   "cell_type": "code",
   "execution_count": 1,
   "metadata": {
    "collapsed": false
   },
   "outputs": [],
   "source": [
    "import warnings\n",
    "warnings.simplefilter('ignore')\n",
    "\n",
    "import numpy as np\n",
    "import pandas as pd\n",
    "import sys,dateutil.parser\n",
    "\n",
    "\n",
    "import macd1\n",
    "import pandas.io.data as web\n",
    "import matplotlib.pyplot as plt\n",
    "import multiprocessing as mp\n",
    "%matplotlib inline\n",
    "import matplotlib.pyplot as plt\n",
    "from pylab import rcParams\n",
    "\n",
    "import strat1\n",
    "import krakenutl,kraken\n",
    "import pandas as pd\n",
    "\n",
    "PAIR='XXBTZUSD'\n",
    "#PAIR='XXBTZUSD_1440'\n",
    "FROM = krakenutl.epochFromLocalTime('2016-03-01 00:00:00')\n",
    "INTERVAL=1440\n",
    "\n",
    "\n",
    "\n",
    "\n",
    "\n"
   ]
  },
  {
   "cell_type": "code",
   "execution_count": 2,
   "metadata": {
    "collapsed": false
   },
   "outputs": [
    {
     "name": "stderr",
     "output_type": "stream",
     "text": [
      "DEBUG:kraken:{'pair': 'XXBTZUSD', 'interval': 1440, 'since': 1456790400}\n",
      "DEBUG:kraken:ent: 6\n",
      "DEBUG:kraken:{'pair': 'XXBTZUSD', 'interval': 1440, 'since': 1457222400}\n",
      "DEBUG:kraken:ent: 1\n",
      "DEBUG:kraken:Total entries: 7\n"
     ]
    },
    {
     "data": {
      "text/html": [
       "<div>\n",
       "<table border=\"1\" class=\"dataframe\">\n",
       "  <thead>\n",
       "    <tr style=\"text-align: right;\">\n",
       "      <th></th>\n",
       "      <th>open</th>\n",
       "      <th>high</th>\n",
       "      <th>low</th>\n",
       "      <th>close</th>\n",
       "      <th>vwap</th>\n",
       "      <th>volume</th>\n",
       "      <th>count</th>\n",
       "    </tr>\n",
       "    <tr>\n",
       "      <th>time</th>\n",
       "      <th></th>\n",
       "      <th></th>\n",
       "      <th></th>\n",
       "      <th></th>\n",
       "      <th></th>\n",
       "      <th></th>\n",
       "      <th></th>\n",
       "    </tr>\n",
       "  </thead>\n",
       "  <tbody>\n",
       "    <tr>\n",
       "      <th>2016-03-03</th>\n",
       "      <td>421.710</td>\n",
       "      <td>431.111</td>\n",
       "      <td>417.000</td>\n",
       "      <td>419.621</td>\n",
       "      <td>422.258</td>\n",
       "      <td>3523.27103536</td>\n",
       "      <td>2388</td>\n",
       "    </tr>\n",
       "    <tr>\n",
       "      <th>2016-03-04</th>\n",
       "      <td>419.621</td>\n",
       "      <td>424.490</td>\n",
       "      <td>404.870</td>\n",
       "      <td>406.670</td>\n",
       "      <td>412.689</td>\n",
       "      <td>3019.00269053</td>\n",
       "      <td>2639</td>\n",
       "    </tr>\n",
       "    <tr>\n",
       "      <th>2016-03-05</th>\n",
       "      <td>406.670</td>\n",
       "      <td>407.770</td>\n",
       "      <td>388.401</td>\n",
       "      <td>393.161</td>\n",
       "      <td>399.060</td>\n",
       "      <td>4392.93244420</td>\n",
       "      <td>2994</td>\n",
       "    </tr>\n",
       "    <tr>\n",
       "      <th>2016-03-06</th>\n",
       "      <td>393.161</td>\n",
       "      <td>410.057</td>\n",
       "      <td>387.270</td>\n",
       "      <td>400.649</td>\n",
       "      <td>399.742</td>\n",
       "      <td>1730.36531397</td>\n",
       "      <td>1452</td>\n",
       "    </tr>\n",
       "  </tbody>\n",
       "</table>\n",
       "</div>"
      ],
      "text/plain": [
       "               open     high      low    close     vwap         volume  count\n",
       "time                                                                         \n",
       "2016-03-03  421.710  431.111  417.000  419.621  422.258  3523.27103536   2388\n",
       "2016-03-04  419.621  424.490  404.870  406.670  412.689  3019.00269053   2639\n",
       "2016-03-05  406.670  407.770  388.401  393.161  399.060  4392.93244420   2994\n",
       "2016-03-06  393.161  410.057  387.270  400.649  399.742  1730.36531397   1452"
      ]
     },
     "execution_count": 2,
     "metadata": {},
     "output_type": "execute_result"
    }
   ],
   "source": [
    "kraken.getOhlc(PAIR, INTERVAL,FROM)"
   ]
  },
  {
   "cell_type": "code",
   "execution_count": null,
   "metadata": {
    "collapsed": true
   },
   "outputs": [],
   "source": []
  },
  {
   "cell_type": "code",
   "execution_count": null,
   "metadata": {
    "collapsed": true
   },
   "outputs": [],
   "source": []
  }
 ],
 "metadata": {
  "kernelspec": {
   "display_name": "Python 2",
   "language": "python",
   "name": "python2"
  },
  "language_info": {
   "codemirror_mode": {
    "name": "ipython",
    "version": 2
   },
   "file_extension": ".py",
   "mimetype": "text/x-python",
   "name": "python",
   "nbconvert_exporter": "python",
   "pygments_lexer": "ipython2",
   "version": "2.7.11"
  }
 },
 "nbformat": 4,
 "nbformat_minor": 0
}
