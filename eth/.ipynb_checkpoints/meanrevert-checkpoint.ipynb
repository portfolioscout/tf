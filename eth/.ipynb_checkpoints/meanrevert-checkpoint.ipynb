{
 "cells": [
  {
   "cell_type": "code",
   "execution_count": null,
   "metadata": {
    "collapsed": false
   },
   "outputs": [],
   "source": [
    "import warnings\n",
    "warnings.simplefilter('ignore')\n",
    "\n",
    "import numpy as np\n",
    "import pandas as pd\n",
    "import sys,dateutil.parser\n",
    "\n",
    "\n",
    "import macd1\n",
    "import pandas.io.data as web\n",
    "import matplotlib.pyplot as plt\n",
    "import multiprocessing as mp\n",
    "%matplotlib inline\n",
    "import matplotlib.pyplot as plt\n",
    "from pylab import rcParams\n",
    "\n",
    "#PAIR='XETHZUSD_1440'\n",
    "PAIR='XXBTZUSD_1440'\n",
    "FROM = '2012-01-01 00:00:00.000000'"
   ]
  },
  {
   "cell_type": "code",
   "execution_count": null,
   "metadata": {
    "collapsed": false
   },
   "outputs": [],
   "source": [
    "\n",
    "#simple price plot\n",
    "filename='source/kraken.h5'\n",
    "h5 = pd.HDFStore(filename, 'r')\n",
    "#print (h5['XETHZUSD_1440']['high'].astype(float))\n",
    "rcParams['figure.figsize'] = 20, 6\n",
    "h5[PAIR]['close'].astype(float).plot()\n",
    "\n",
    "\n",
    "\n"
   ]
  },
  {
   "cell_type": "code",
   "execution_count": null,
   "metadata": {
    "collapsed": false
   },
   "outputs": [],
   "source": [
    "# macd and regime\n",
    "\n",
    "filename='source/kraken.h5'\n",
    "h5 = pd.HDFStore(filename, 'r')\n",
    "rcParams['figure.figsize'] = 20, 6\n",
    "df=h5[PAIR]\n",
    "dtSlice = df[df.index > dateutil.parser.parse(FROM)]\n",
    "dt = macd1.compMacd(dtSlice,macd1.compTradeDmacd)\n",
    "fig, axs1 = plt.subplots(1,1)\n",
    "dt['close'].astype(float).plot(ax=axs1, grid=True)\n",
    "\n",
    "figsize2=(20, 1)\n",
    "fig, axs2 = plt.subplots(1,1)\n",
    "dt['regime'].plot(ax=axs2,figsize=figsize2, grid=True)\n",
    "\n",
    "figsize3=(20, 1)\n",
    "fig, axs3 = plt.subplots(1,1)\n",
    "dt['dmacd'].plot(ax=axs3,figsize=figsize3, grid=True)\n"
   ]
  },
  {
   "cell_type": "code",
   "execution_count": null,
   "metadata": {
    "collapsed": false
   },
   "outputs": [],
   "source": [
    "#comparison between market and strategy\n",
    "dcumsum = dt[['market','strategy']].cumsum() \n",
    "lpos=len(dcumsum)-1\n",
    "strat=np.exp(dcumsum['strategy'][lpos])\n",
    "bhold=np.exp(dcumsum['market'][lpos])\n",
    "print bhold,strat"
   ]
  },
  {
   "cell_type": "code",
   "execution_count": null,
   "metadata": {
    "collapsed": true
   },
   "outputs": [],
   "source": []
  }
 ],
 "metadata": {
  "kernelspec": {
   "display_name": "Python 2",
   "language": "python",
   "name": "python2"
  },
  "language_info": {
   "codemirror_mode": {
    "name": "ipython",
    "version": 2
   },
   "file_extension": ".py",
   "mimetype": "text/x-python",
   "name": "python",
   "nbconvert_exporter": "python",
   "pygments_lexer": "ipython2",
   "version": "2.7.11"
  }
 },
 "nbformat": 4,
 "nbformat_minor": 0
}
