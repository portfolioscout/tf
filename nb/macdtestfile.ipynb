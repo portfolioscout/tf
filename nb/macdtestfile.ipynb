{
 "cells": [
  {
   "cell_type": "code",
   "execution_count": 1,
   "metadata": {
    "collapsed": false
   },
   "outputs": [],
   "source": [
    "import warnings\n",
    "warnings.simplefilter('ignore')\n",
    "\n",
    "import numpy as np\n",
    "import pandas as pd\n",
    "import sys\n",
    "\n",
    "\n",
    "import macd\n",
    "import pandas.io.data as web\n",
    "import matplotlib.pyplot as plt\n",
    "import multiprocessing as mp\n",
    "%matplotlib inline"
   ]
  },
  {
   "cell_type": "code",
   "execution_count": 2,
   "metadata": {
    "collapsed": false
   },
   "outputs": [
    {
     "name": "stdout",
     "output_type": "stream",
     "text": [
      "['AAP', 'AMZN', 'AN', 'AZO', 'BBBY', 'BBY', 'BWA', 'CBS', 'CCL', 'CMCSA']\n"
     ]
    }
   ],
   "source": [
    "filename='source/snp500.h5'\n",
    "h5 = pd.HDFStore(filename, 'r')\n",
    "symbols=macd.getSymbols(h5)[0:10]\n",
    "print symbols\n",
    "\n",
    "\n"
   ]
  },
  {
   "cell_type": "code",
   "execution_count": 4,
   "metadata": {
    "collapsed": false
   },
   "outputs": [
    {
     "name": "stdout",
     "output_type": "stream",
     "text": [
      "2005-01-01 2005-12-31\n",
      "2006-01-01 2006-12-31\n",
      "2007-01-01 2007-12-31\n",
      "2008-01-01 2008-12-31\n",
      "2009-01-01 2009-12-31\n",
      "2010-01-01 2010-12-31\n"
     ]
    }
   ],
   "source": [
    "filename='source/snp500.h5'\n",
    "path='data/dfs.h5'\n",
    "for y in range(2005,2011):\n",
    "    s=str(y)+'-01-01'\n",
    "    e=str(y)+'-12-31'\n",
    "    print s,e\n",
    "    df=macd.parallelCumsum(filename, symbols,s,e,procs=None)\n",
    "\n",
    "    with pd.get_store(path) as store:\n",
    "        store[str(y)]=df"
   ]
  },
  {
   "cell_type": "code",
   "execution_count": null,
   "metadata": {
    "collapsed": false
   },
   "outputs": [],
   "source": [
    "#path='/home/ruslan/data/dfs.h5'\n",
    "#start='2011-01-01'\n",
    "#end=None\n",
    "#df=macd.parallelCumsum(filename, symbols,start,end,procs=1) \n",
    "\n",
    "#with pd.get_store(path) as store:\n",
    "#    store['2011']=df    "
   ]
  },
  {
   "cell_type": "code",
   "execution_count": 5,
   "metadata": {
    "collapsed": false
   },
   "outputs": [
    {
     "name": "stdout",
     "output_type": "stream",
     "text": [
      "['/2005', '/2006', '/2007', '/2008', '/2009', '/2010']\n"
     ]
    }
   ],
   "source": [
    "with pd.get_store(path) as store:\n",
    "    df1=store\n",
    "    print df1.keys()"
   ]
  },
  {
   "cell_type": "code",
   "execution_count": null,
   "metadata": {
    "collapsed": false
   },
   "outputs": [],
   "source": [
    "with pd.get_store(path) as store:\n",
    "    df1=store['/2011-2015']\n",
    "    print df1.keys()"
   ]
  },
  {
   "cell_type": "code",
   "execution_count": null,
   "metadata": {
    "collapsed": false
   },
   "outputs": [],
   "source": [
    "print df1.loc[(df1['win']>70.0)]"
   ]
  },
  {
   "cell_type": "code",
   "execution_count": null,
   "metadata": {
    "collapsed": false
   },
   "outputs": [],
   "source": [
    "start='2011-01-01'\n",
    "dt0=macd.getClose(h5,'FCX')[start:]\n",
    "\n",
    "dt = macd.macd(dt0) \n",
    "dcs,res=macd.doCumsum(dt)\n",
    "macd.plotMacd(dt)"
   ]
  },
  {
   "cell_type": "code",
   "execution_count": null,
   "metadata": {
    "collapsed": false
   },
   "outputs": [],
   "source": [
    "print res"
   ]
  },
  {
   "cell_type": "code",
   "execution_count": null,
   "metadata": {
    "collapsed": true
   },
   "outputs": [],
   "source": []
  }
 ],
 "metadata": {
  "kernelspec": {
   "display_name": "Python 2",
   "language": "python",
   "name": "python2"
  },
  "language_info": {
   "codemirror_mode": {
    "name": "ipython",
    "version": 2
   },
   "file_extension": ".py",
   "mimetype": "text/x-python",
   "name": "python",
   "nbconvert_exporter": "python",
   "pygments_lexer": "ipython2",
   "version": "2.7.11"
  }
 },
 "nbformat": 4,
 "nbformat_minor": 0
}
